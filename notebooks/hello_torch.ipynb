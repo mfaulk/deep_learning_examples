{
 "cells": [
  {
   "cell_type": "code",
   "execution_count": 1,
   "id": "10342b9a-eff6-4a20-b160-e943c5aafbac",
   "metadata": {},
   "outputs": [
    {
     "name": "stdout",
     "output_type": "stream",
     "text": [
      "Tensor from list: tensor([1, 2, 3, 4])\n",
      "Tensor from NumPy array:\n",
      " tensor([[1, 2],\n",
      "        [3, 4]])\n",
      "Element-wise addition: tensor([5, 7, 9])\n",
      "Matrix multiplication:\n",
      " tensor([[19, 22],\n",
      "        [43, 50]])\n",
      "Device: cuda\n",
      "Tensor on GPU: tensor([1, 2, 3, 4], device='cuda:0')\n"
     ]
    }
   ],
   "source": [
    "# Hello Torch\n",
    "\n",
    "import torch\n",
    "import torch.nn as nn\n",
    "import torch.optim as optim\n",
    "import torch.nn.functional as F\n",
    "import numpy as np\n",
    "\n",
    "\n",
    "# 1. Tensors in PyTorch\n",
    "# Tensors are the fundamental building blocks in PyTorch\n",
    "# They ar similar to NumPy arrays but with additional functionalities like GPU acceleration\n",
    "\n",
    "# 1.1 Creating Tensors\n",
    "# You can create tensors from Python lists or NumPy arrays\n",
    "\n",
    "# Create a tensor from a list\n",
    "tensor_from_list = torch.tensor([1, 2, 3, 4])\n",
    "print(\"Tensor from list:\", tensor_from_list)\n",
    "\n",
    "# Create a tensor from a NumPy array\n",
    "np_array = np.array([[1, 2], [3, 4]])\n",
    "tensor_from_np = torch.tensor(np_array)\n",
    "print(\"Tensor from NumPy array:\\n\", tensor_from_np)\n",
    "\n",
    "# 1.2 Tensor Operations\n",
    "# PyTorch supports a variety of tensor operations. Below are some examples\n",
    "\n",
    "# Element-wise addition\n",
    "a = torch.tensor([1, 2, 3])\n",
    "b = torch.tensor([4, 5, 6])\n",
    "print(\"Element-wise addition:\", a + b)\n",
    "\n",
    "# Matrix multiplication\n",
    "A = torch.tensor([[1, 2], [3, 4]])\n",
    "B = torch.tensor([[5, 6], [7, 8]])\n",
    "print(\"Matrix multiplication:\\n\", torch.matmul(A, B))\n",
    "\n",
    "# 1.3 GPU Support\n",
    "# PyTorch tensors can be moved to GPU to accelerate computations\n",
    "\n",
    "# Check if GPU is available\n",
    "device = torch.device(\"cuda\" if torch.cuda.is_available() else \"cpu\")\n",
    "print(\"Device:\", device)\n",
    "\n",
    "# Move a tensor to GPU\n",
    "tensor_on_gpu = tensor_from_list.to(device)\n",
    "print(\"Tensor on GPU:\", tensor_on_gpu)\n"
   ]
  },
  {
   "cell_type": "code",
   "execution_count": 2,
   "id": "66a93e3e-b56f-41b2-bfe1-c7d7c6838a47",
   "metadata": {},
   "outputs": [
    {
     "name": "stdout",
     "output_type": "stream",
     "text": [
      "dy/dx: tensor(7.)\n"
     ]
    }
   ],
   "source": [
    "# 2. Automatic Differentiation\n",
    "# PyTorch provides automatic differentiation via the `autograd` package, which tracks operations on tensors with `requires_grad=True`.\n",
    "\n",
    "# 2.1 Basic Autograd Example\n",
    "# Create tensors with requires_grad=True to enable tracking of operations.\n",
    "\n",
    "x = torch.tensor(2.0, requires_grad=True)\n",
    "y = x ** 2 + 3 * x + 5\n",
    "y.backward()  # Compute gradients\n",
    "\n",
    "# The gradient of y with respect to x is stored in x.grad\n",
    "print(\"dy/dx:\", x.grad)"
   ]
  },
  {
   "cell_type": "code",
   "execution_count": null,
   "id": "a6daf259-562a-4852-b462-e0db35395f08",
   "metadata": {},
   "outputs": [],
   "source": []
  }
 ],
 "metadata": {
  "kernelspec": {
   "display_name": "Python 3 (ipykernel)",
   "language": "python",
   "name": "python3"
  },
  "language_info": {
   "codemirror_mode": {
    "name": "ipython",
    "version": 3
   },
   "file_extension": ".py",
   "mimetype": "text/x-python",
   "name": "python",
   "nbconvert_exporter": "python",
   "pygments_lexer": "ipython3",
   "version": "3.12.3"
  }
 },
 "nbformat": 4,
 "nbformat_minor": 5
}
